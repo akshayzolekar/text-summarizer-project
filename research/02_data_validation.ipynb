{
 "cells": [
  {
   "cell_type": "code",
   "id": "initial_id",
   "metadata": {
    "collapsed": true,
    "ExecuteTime": {
     "end_time": "2024-12-26T06:40:22.376773Z",
     "start_time": "2024-12-26T06:40:22.373529Z"
    }
   },
   "source": "import os",
   "outputs": [],
   "execution_count": 1
  },
  {
   "metadata": {
    "ExecuteTime": {
     "end_time": "2024-12-26T06:40:22.385021Z",
     "start_time": "2024-12-26T06:40:22.381625Z"
    }
   },
   "cell_type": "code",
   "source": "%pwd",
   "id": "5832c14adfe78c4",
   "outputs": [
    {
     "data": {
      "text/plain": [
       "'/Users/shamalishinde/Akshay_Projects/Pycharm_Projects/text-summarizer-project/research'"
      ]
     },
     "execution_count": 2,
     "metadata": {},
     "output_type": "execute_result"
    }
   ],
   "execution_count": 2
  },
  {
   "metadata": {
    "ExecuteTime": {
     "end_time": "2024-12-26T06:40:22.553194Z",
     "start_time": "2024-12-26T06:40:22.550844Z"
    }
   },
   "cell_type": "code",
   "source": "os.chdir(\"../\")",
   "id": "2726496d23619e1b",
   "outputs": [],
   "execution_count": 3
  },
  {
   "metadata": {
    "ExecuteTime": {
     "end_time": "2024-12-26T06:40:22.994272Z",
     "start_time": "2024-12-26T06:40:22.991008Z"
    }
   },
   "cell_type": "code",
   "source": "%pwd",
   "id": "c8fe7e2e5c060454",
   "outputs": [
    {
     "data": {
      "text/plain": [
       "'/Users/shamalishinde/Akshay_Projects/Pycharm_Projects/text-summarizer-project'"
      ]
     },
     "execution_count": 4,
     "metadata": {},
     "output_type": "execute_result"
    }
   ],
   "execution_count": 4
  },
  {
   "metadata": {
    "ExecuteTime": {
     "end_time": "2024-12-26T06:43:42.517549Z",
     "start_time": "2024-12-26T06:43:42.512413Z"
    }
   },
   "cell_type": "code",
   "source": [
    "from dataclasses import dataclass\n",
    "from pathlib import Path\n",
    "\n",
    "@dataclass(frozen=True)\n",
    "class DataValidationConfig:\n",
    "    root_dir: Path\n",
    "    STATUS_FILE: str\n",
    "    ALL_REQUIRED_FILES: Path"
   ],
   "id": "e59419b6b0743288",
   "outputs": [],
   "execution_count": 5
  },
  {
   "metadata": {
    "ExecuteTime": {
     "end_time": "2024-12-26T06:46:20.874135Z",
     "start_time": "2024-12-26T06:46:20.817615Z"
    }
   },
   "cell_type": "code",
   "source": [
    "from textSummarizer.constants import *\n",
    "from textSummarizer.utils.common import read_yaml, create_directories"
   ],
   "id": "48d254a556a85449",
   "outputs": [],
   "execution_count": 7
  },
  {
   "metadata": {
    "ExecuteTime": {
     "end_time": "2024-12-26T06:46:33.174705Z",
     "start_time": "2024-12-26T06:46:33.162681Z"
    }
   },
   "cell_type": "code",
   "source": [
    "class ConfigurationManager:\n",
    "    def __init__(self, config_filepath=CONFIG_FILE_PATH, params_filepath=PARAMS_FILE_PATH):\n",
    "        self.config = read_yaml(config_filepath)\n",
    "        self.params = read_yaml(params_filepath)\n",
    "\n",
    "        create_directories([self.config.artifacts_root])\n",
    "\n",
    "    def get_data_validation_config(self) -> DataValidationConfig:\n",
    "        config = self.config.data_validation\n",
    "\n",
    "        create_directories([config.root_dir])\n",
    "\n",
    "        data_validation_config = DataValidationConfig(\n",
    "            root_dir=config.root_dir,\n",
    "            STATUS_FILE=config.STATUS_FILE,\n",
    "            ALL_REQUIRED_FILES=config.ALL_REQUIRED_FILES,\n",
    "        )\n",
    "\n",
    "        return data_validation_config\n"
   ],
   "id": "a681cfa44bec87a",
   "outputs": [],
   "execution_count": 8
  },
  {
   "metadata": {
    "ExecuteTime": {
     "end_time": "2024-12-26T06:50:49.267600Z",
     "start_time": "2024-12-26T06:50:49.261995Z"
    }
   },
   "cell_type": "code",
   "source": [
    "import os\n",
    "from textSummarizer.logging import logger"
   ],
   "id": "91bf56a50e472f46",
   "outputs": [],
   "execution_count": 9
  },
  {
   "metadata": {
    "ExecuteTime": {
     "end_time": "2024-12-26T06:53:49.999131Z",
     "start_time": "2024-12-26T06:53:49.992038Z"
    }
   },
   "cell_type": "code",
   "source": [
    "class DataValidation:\n",
    "    def __init__(self, config: DataValidationConfig):\n",
    "        self.config = config\n",
    "\n",
    "    def validate_all_files_exist(self)-> bool:\n",
    "        try:\n",
    "            validation_status = None\n",
    "\n",
    "            all_files = os.listdir(os.path.join(\"artifacts\",\"data_ingestion\",\"corpus\"))\n",
    "\n",
    "            for file in all_files:\n",
    "                if file not in self.config.ALL_REQUIRED_FILES:\n",
    "                    validation_status = False\n",
    "                    with open(self.config.STATUS_FILE, 'w') as f:\n",
    "                        f.write(f\"Validation status: {validation_status}\")\n",
    "                else:\n",
    "                    validation_status = True\n",
    "                    with open(self.config.STATUS_FILE, 'w') as f:\n",
    "                        f.write(f\"Validation status: {validation_status}\")\n",
    "\n",
    "            return validation_status\n",
    "\n",
    "        except Exception as e:\n",
    "            raise e\n"
   ],
   "id": "449218c9c9610548",
   "outputs": [],
   "execution_count": 12
  },
  {
   "metadata": {
    "ExecuteTime": {
     "end_time": "2024-12-26T06:53:51.441791Z",
     "start_time": "2024-12-26T06:53:51.431902Z"
    }
   },
   "cell_type": "code",
   "source": [
    "config = ConfigurationManager()\n",
    "data_validation_config = config.get_data_validation_config()\n",
    "data_validation = DataValidation(config=data_validation_config)\n",
    "data_validation.validate_all_files_exist()"
   ],
   "id": "b732197ddbed049c",
   "outputs": [
    {
     "name": "stdout",
     "output_type": "stream",
     "text": [
      "[2024-12-26 12:23:51,434: INFO: common: yaml file: config/config.yaml loaded successfully]\n",
      "[2024-12-26 12:23:51,435: INFO: common: yaml file: params.yaml loaded successfully]\n",
      "[2024-12-26 12:23:51,436: INFO: common: created directory at: artifacts]\n",
      "[2024-12-26 12:23:51,437: INFO: common: created directory at: artifacts/data_validation]\n"
     ]
    },
    {
     "data": {
      "text/plain": [
       "False"
      ]
     },
     "execution_count": 13,
     "metadata": {},
     "output_type": "execute_result"
    }
   ],
   "execution_count": 13
  }
 ],
 "metadata": {
  "kernelspec": {
   "display_name": "Python 3",
   "language": "python",
   "name": "python3"
  },
  "language_info": {
   "codemirror_mode": {
    "name": "ipython",
    "version": 2
   },
   "file_extension": ".py",
   "mimetype": "text/x-python",
   "name": "python",
   "nbconvert_exporter": "python",
   "pygments_lexer": "ipython2",
   "version": "2.7.6"
  }
 },
 "nbformat": 4,
 "nbformat_minor": 5
}
