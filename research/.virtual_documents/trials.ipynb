d = {"key": "value", "key1": "value1"}


d["key"]


d.key


from box import ConfigBox


d2 = ConfigBox({"key": "value", "key1": "value1"})


d2


d2.key


def get
