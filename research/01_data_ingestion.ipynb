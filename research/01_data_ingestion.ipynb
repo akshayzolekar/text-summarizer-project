{
 "cells": [
  {
   "cell_type": "code",
   "id": "initial_id",
   "metadata": {
    "collapsed": true,
    "ExecuteTime": {
     "end_time": "2024-12-25T14:44:36.718923Z",
     "start_time": "2024-12-25T14:44:36.714237Z"
    }
   },
   "source": "import os",
   "outputs": [],
   "execution_count": 1
  },
  {
   "metadata": {
    "ExecuteTime": {
     "end_time": "2024-12-25T14:44:41.716078Z",
     "start_time": "2024-12-25T14:44:41.710573Z"
    }
   },
   "cell_type": "code",
   "source": "%pwd",
   "id": "d6601fe0506fa84d",
   "outputs": [
    {
     "data": {
      "text/plain": [
       "'/Users/shamalishinde/Akshay_Projects/Pycharm_Projects/text-summarizer-project'"
      ]
     },
     "execution_count": 4,
     "metadata": {},
     "output_type": "execute_result"
    }
   ],
   "execution_count": 4
  },
  {
   "metadata": {
    "ExecuteTime": {
     "end_time": "2024-12-25T14:44:39.410252Z",
     "start_time": "2024-12-25T14:44:39.405268Z"
    }
   },
   "cell_type": "code",
   "source": "os.chdir(\"../\")",
   "id": "ef0885865bc23e6d",
   "outputs": [],
   "execution_count": 3
  },
  {
   "metadata": {
    "ExecuteTime": {
     "end_time": "2024-12-25T14:47:36.581397Z",
     "start_time": "2024-12-25T14:47:36.573650Z"
    }
   },
   "cell_type": "code",
   "source": [
    "from dataclasses import dataclass\n",
    "from pathlib import Path\n",
    "\n",
    "@dataclass(frozen=True)\n",
    "class DataIngestionConfig:\n",
    "    root_dir: Path\n",
    "    source_url: str\n",
    "    local_data_file: Path\n",
    "    unzip_dir: Path"
   ],
   "id": "e430c77574faa81b",
   "outputs": [],
   "execution_count": 12
  },
  {
   "metadata": {
    "ExecuteTime": {
     "end_time": "2024-12-25T14:47:37.023970Z",
     "start_time": "2024-12-25T14:47:37.019694Z"
    }
   },
   "cell_type": "code",
   "source": [
    "from textSummarizer.constants import *\n",
    "from textSummarizer.utils.common import read_yaml, create_directories"
   ],
   "id": "7050d58777a44e85",
   "outputs": [],
   "execution_count": 13
  },
  {
   "metadata": {
    "ExecuteTime": {
     "end_time": "2024-12-25T14:47:37.386618Z",
     "start_time": "2024-12-25T14:47:37.383229Z"
    }
   },
   "cell_type": "code",
   "source": [
    "class ConfigurationManager:\n",
    "    def __init__(self, config_filepath=CONFIG_FILE_PATH, params_filepath=PARAMS_FILE_PATH):\n",
    "        self.config = read_yaml(config_filepath)\n",
    "        self.params = read_yaml(params_filepath)\n",
    "\n",
    "        create_directories([self.config.artifacts_root])\n",
    "\n",
    "    def get_data_ingestion_config(self) -> DataIngestionConfig:\n",
    "        config = self.config.data_ingestion\n",
    "\n",
    "        create_directories([config.root_dir])\n",
    "\n",
    "        data_ingestion_config = DataIngestionConfig(\n",
    "            root_dir=config.root_dir,\n",
    "            source_url=config.source_url,\n",
    "            local_data_file=config.local_data_file,\n",
    "            unzip_dir=config.unzip_dir\n",
    "        )\n",
    "        return data_ingestion_config\n",
    "\n"
   ],
   "id": "d257ef7139e43098",
   "outputs": [],
   "execution_count": 14
  },
  {
   "metadata": {
    "ExecuteTime": {
     "end_time": "2024-12-25T14:47:37.762998Z",
     "start_time": "2024-12-25T14:47:37.760918Z"
    }
   },
   "cell_type": "code",
   "source": [
    "import os\n",
    "import urllib.request as request\n",
    "import zipfile\n",
    "from textSummarizer.logging import logger\n",
    "from textSummarizer.utils.common import get_size"
   ],
   "id": "8a0256e7d72450a1",
   "outputs": [],
   "execution_count": 15
  },
  {
   "metadata": {
    "ExecuteTime": {
     "end_time": "2024-12-25T14:47:38.234189Z",
     "start_time": "2024-12-25T14:47:38.230544Z"
    }
   },
   "cell_type": "code",
   "source": [
    "class DataIngestion:\n",
    "    def __init__(self, config: DataIngestionConfig):\n",
    "        self.config = config\n",
    "\n",
    "    def download_file(self):\n",
    "        if not os.path.exists(self.config.local_data_file):\n",
    "            filename, headers = request.urlretrieve(\n",
    "                url = self.config.source_url,\n",
    "                filename = self.config.local_data_file\n",
    "            )\n",
    "            logger.info(f\"{filename} download! with following info: \\n{headers}\")\n",
    "        else:\n",
    "            logger.info(f\"File already exists of size: {get_size(Path(self.config.local_data_file))}\")\n",
    "\n",
    "    def extract_zip_file(self):\n",
    "        \"\"\"\n",
    "        zip_file_path: str\n",
    "        Extracts the zip file into the data directory\n",
    "        Function returns None\n",
    "        \"\"\"\n",
    "        unzip_path = self.config.unzip_dir\n",
    "        os.makedirs(unzip_path, exist_ok=True)\n",
    "        with zipfile.ZipFile(self.config.local_data_file, 'r') as zip_ref:\n",
    "            zip_ref.extractall(unzip_path)"
   ],
   "id": "2e52fba63fd670cc",
   "outputs": [],
   "execution_count": 16
  },
  {
   "metadata": {
    "ExecuteTime": {
     "end_time": "2024-12-25T14:47:41.557Z",
     "start_time": "2024-12-25T14:47:38.756480Z"
    }
   },
   "cell_type": "code",
   "source": [
    "config = ConfigurationManager()\n",
    "data_ingestion_config = config.get_data_ingestion_config()\n",
    "data_ingestion = DataIngestion(config=data_ingestion_config)\n",
    "data_ingestion.download_file()\n",
    "data_ingestion.extract_zip_file()"
   ],
   "id": "ccbf7dae6cb5c0e6",
   "outputs": [
    {
     "name": "stdout",
     "output_type": "stream",
     "text": [
      "[2024-12-25 20:17:38,758: INFO: common: yaml file: config/config.yaml loaded successfully]\n",
      "[2024-12-25 20:17:38,761: INFO: common: yaml file: params.yaml loaded successfully]\n",
      "[2024-12-25 20:17:38,762: INFO: common: created directory at: artifacts]\n",
      "[2024-12-25 20:17:38,763: INFO: common: created directory at: artifacts/data_ingestion]\n",
      "[2024-12-25 20:17:41,498: INFO: <ipython-input-16-6746d488a707>: artifacts/data_ingestion/data.zip download! with following info: \n",
      "Connection: close\n",
      "Content-Length: 4140833\n",
      "Cache-Control: max-age=300\n",
      "Content-Security-Policy: default-src 'none'; style-src 'unsafe-inline'; sandbox\n",
      "Content-Type: application/zip\n",
      "ETag: \"9f2051ee1574ca0ab38be0fba56cedea004c59a1c3060155a7a6dd24ec07702e\"\n",
      "Strict-Transport-Security: max-age=31536000\n",
      "X-Content-Type-Options: nosniff\n",
      "X-Frame-Options: deny\n",
      "X-XSS-Protection: 1; mode=block\n",
      "X-GitHub-Request-Id: C325:1D2AD0:A2D0D:EEE7C:676C1B0B\n",
      "Accept-Ranges: bytes\n",
      "Date: Wed, 25 Dec 2024 14:47:41 GMT\n",
      "Via: 1.1 varnish\n",
      "X-Served-By: cache-bom4727-BOM\n",
      "X-Cache: MISS\n",
      "X-Cache-Hits: 0\n",
      "X-Timer: S1735138060.786348,VS0,VE1502\n",
      "Vary: Authorization,Accept-Encoding,Origin\n",
      "Access-Control-Allow-Origin: *\n",
      "Cross-Origin-Resource-Policy: cross-origin\n",
      "X-Fastly-Request-ID: b6d27bfed6f28512a460e939ea1249027659db87\n",
      "Expires: Wed, 25 Dec 2024 14:52:41 GMT\n",
      "Source-Age: 1\n",
      "\n",
      "]\n"
     ]
    }
   ],
   "execution_count": 17
  },
  {
   "metadata": {},
   "cell_type": "code",
   "outputs": [],
   "execution_count": null,
   "source": "",
   "id": "52e9a0e768596c38"
  }
 ],
 "metadata": {
  "kernelspec": {
   "display_name": "Python 3",
   "language": "python",
   "name": "python3"
  },
  "language_info": {
   "codemirror_mode": {
    "name": "ipython",
    "version": 2
   },
   "file_extension": ".py",
   "mimetype": "text/x-python",
   "name": "python",
   "nbconvert_exporter": "python",
   "pygments_lexer": "ipython2",
   "version": "2.7.6"
  }
 },
 "nbformat": 4,
 "nbformat_minor": 5
}
